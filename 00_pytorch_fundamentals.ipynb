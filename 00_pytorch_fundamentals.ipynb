{
  "nbformat": 4,
  "nbformat_minor": 0,
  "metadata": {
    "colab": {
      "provenance": [],
      "authorship_tag": "ABX9TyP29IRZsbycVu2n3yXLnLPe",
      "include_colab_link": true
    },
    "kernelspec": {
      "name": "python3",
      "display_name": "Python 3"
    },
    "language_info": {
      "name": "python"
    }
  },
  "cells": [
    {
      "cell_type": "markdown",
      "metadata": {
        "id": "view-in-github",
        "colab_type": "text"
      },
      "source": [
        "<a href=\"https://colab.research.google.com/github/Sebastian-Constantin-Iacob/learning_pytorch/blob/main/00_pytorch_fundamentals.ipynb\" target=\"_parent\"><img src=\"https://colab.research.google.com/assets/colab-badge.svg\" alt=\"Open In Colab\"/></a>"
      ]
    },
    {
      "cell_type": "code",
      "execution_count": 3,
      "metadata": {
        "id": "gYHbrg1b4WlJ",
        "colab": {
          "base_uri": "https://localhost:8080/"
        },
        "outputId": "77837aa2-a6d5-41fe-a7e4-9eb3b13f9deb"
      },
      "outputs": [
        {
          "output_type": "stream",
          "name": "stdout",
          "text": [
            "2.0.0+cu118\n"
          ]
        }
      ],
      "source": [
        "import torch\n",
        "import pandas as pd\n",
        "import numpy as np\n",
        "import matplotlib.pyplot as plt\n",
        "print(torch.__version__)"
      ]
    },
    {
      "cell_type": "markdown",
      "source": [
        "## Introduction to Tensors\n",
        "### Creating tensors\n",
        "### PyTorch tensors are created using torch.Tensor(). See documentation at: https://pytorch.org/docs/stable/tensors.html"
      ],
      "metadata": {
        "id": "MO3cXS22-Wps"
      }
    },
    {
      "cell_type": "code",
      "source": [
        "# Scalar\n",
        "scalar = torch.tensor(7)\n",
        "scalar"
      ],
      "metadata": {
        "colab": {
          "base_uri": "https://localhost:8080/"
        },
        "id": "9Sr8-o1h-XvA",
        "outputId": "d737192a-5a00-48d4-e00b-c89652ec1088"
      },
      "execution_count": 4,
      "outputs": [
        {
          "output_type": "execute_result",
          "data": {
            "text/plain": [
              "tensor(7)"
            ]
          },
          "metadata": {},
          "execution_count": 4
        }
      ]
    },
    {
      "cell_type": "code",
      "source": [
        "# A scalar has 0 dimentions\n",
        "scalar.ndim"
      ],
      "metadata": {
        "colab": {
          "base_uri": "https://localhost:8080/"
        },
        "id": "tbTDGf28-n-x",
        "outputId": "7ed8f8d7-6b74-4210-8a31-032000cc47e3"
      },
      "execution_count": 5,
      "outputs": [
        {
          "output_type": "execute_result",
          "data": {
            "text/plain": [
              "0"
            ]
          },
          "metadata": {},
          "execution_count": 5
        }
      ]
    },
    {
      "cell_type": "code",
      "source": [
        "# We can get the tensor back, in this case as a Python int\n",
        "scalar.item()"
      ],
      "metadata": {
        "colab": {
          "base_uri": "https://localhost:8080/"
        },
        "id": "R7Xqm3bc_tAB",
        "outputId": "67980b3c-ceed-4f59-a07d-d09c68f65088"
      },
      "execution_count": 6,
      "outputs": [
        {
          "output_type": "execute_result",
          "data": {
            "text/plain": [
              "7"
            ]
          },
          "metadata": {},
          "execution_count": 6
        }
      ]
    },
    {
      "cell_type": "code",
      "source": [
        "# A vector as a tensor\n",
        "vector = torch.tensor([7,7])\n",
        "vector"
      ],
      "metadata": {
        "colab": {
          "base_uri": "https://localhost:8080/"
        },
        "id": "Pa8pmIc8_7Ir",
        "outputId": "c2f3b3df-aa80-4aed-de34-5bc602e0487b"
      },
      "execution_count": 7,
      "outputs": [
        {
          "output_type": "execute_result",
          "data": {
            "text/plain": [
              "tensor([7, 7])"
            ]
          },
          "metadata": {},
          "execution_count": 7
        }
      ]
    },
    {
      "cell_type": "code",
      "source": [
        "# A vector is considered as having 1 dimention\n",
        "vector.ndim"
      ],
      "metadata": {
        "colab": {
          "base_uri": "https://localhost:8080/"
        },
        "id": "_ua9ySETAPrM",
        "outputId": "e5762571-1e54-4089-d7a5-6b1c42a4b6af"
      },
      "execution_count": 8,
      "outputs": [
        {
          "output_type": "execute_result",
          "data": {
            "text/plain": [
              "1"
            ]
          },
          "metadata": {},
          "execution_count": 8
        }
      ]
    },
    {
      "cell_type": "code",
      "source": [
        "# A vector can not be retrived as an item\n",
        "vector.item()"
      ],
      "metadata": {
        "colab": {
          "base_uri": "https://localhost:8080/",
          "height": 183
        },
        "id": "OHVEzAdXAb5o",
        "outputId": "2d456358-ddbf-4b5b-e08f-a834ea8917c8"
      },
      "execution_count": 9,
      "outputs": [
        {
          "output_type": "error",
          "ename": "RuntimeError",
          "evalue": "ignored",
          "traceback": [
            "\u001b[0;31m---------------------------------------------------------------------------\u001b[0m",
            "\u001b[0;31mRuntimeError\u001b[0m                              Traceback (most recent call last)",
            "\u001b[0;32m<ipython-input-9-a49684870f54>\u001b[0m in \u001b[0;36m<cell line: 2>\u001b[0;34m()\u001b[0m\n\u001b[1;32m      1\u001b[0m \u001b[0;31m# A vector can not be retrived as an item\u001b[0m\u001b[0;34m\u001b[0m\u001b[0;34m\u001b[0m\u001b[0m\n\u001b[0;32m----> 2\u001b[0;31m \u001b[0mvector\u001b[0m\u001b[0;34m.\u001b[0m\u001b[0mitem\u001b[0m\u001b[0;34m(\u001b[0m\u001b[0;34m)\u001b[0m\u001b[0;34m\u001b[0m\u001b[0;34m\u001b[0m\u001b[0m\n\u001b[0m",
            "\u001b[0;31mRuntimeError\u001b[0m: a Tensor with 2 elements cannot be converted to Scalar"
          ]
        }
      ]
    },
    {
      "cell_type": "code",
      "source": [
        "# We can get the shape of a vacor \n",
        "vector.shape"
      ],
      "metadata": {
        "id": "FhLDwi3aAheF"
      },
      "execution_count": null,
      "outputs": []
    },
    {
      "cell_type": "code",
      "source": [
        "# Creating a MATRIX\n",
        "MATRIX = torch.tensor([[7 ,8],\n",
        "                      [9, 10]])\n",
        "MATRIX"
      ],
      "metadata": {
        "id": "KkKiznY2A7M4"
      },
      "execution_count": null,
      "outputs": []
    },
    {
      "cell_type": "code",
      "source": [
        "# Numbers of dimentions for a MATRIX\n",
        "MATRIX.ndim"
      ],
      "metadata": {
        "id": "GOIpBnUNBOqU"
      },
      "execution_count": null,
      "outputs": []
    },
    {
      "cell_type": "code",
      "source": [
        "# The shape of a MATRIX\n",
        "MATRIX.shape"
      ],
      "metadata": {
        "id": "fb4M2nzdBi-0"
      },
      "execution_count": null,
      "outputs": []
    },
    {
      "cell_type": "code",
      "source": [
        "# Accesing the rows of a matrix\n",
        "MATRIX[0]"
      ],
      "metadata": {
        "id": "Hj_eX8riBnGX"
      },
      "execution_count": null,
      "outputs": []
    },
    {
      "cell_type": "code",
      "source": [
        "# Accesing the rows of a matrix\n",
        "MATRIX[1]"
      ],
      "metadata": {
        "id": "bjS8sdV5B1_I"
      },
      "execution_count": null,
      "outputs": []
    },
    {
      "cell_type": "code",
      "source": [
        "# A tensor that is a larger matrix ( 3x3 )\n",
        "TENSOR = torch.tensor([[[1, 2, 3],\n",
        "                      [3, 6, 9],\n",
        "                      [2, 4, 5]]])\n",
        "TENSOR"
      ],
      "metadata": {
        "id": "QL9BaqHPCCGq"
      },
      "execution_count": null,
      "outputs": []
    },
    {
      "cell_type": "code",
      "source": [
        "# Tensor dimentions\n",
        "TENSOR.ndim"
      ],
      "metadata": {
        "id": "AS22UsdMCzEk"
      },
      "execution_count": null,
      "outputs": []
    },
    {
      "cell_type": "code",
      "source": [
        "# The shape of a 3x3 tensor ( we can read it as one three by three tensor (1, 3, 3) )\n",
        "TENSOR.shape"
      ],
      "metadata": {
        "id": "QEggpb5VC4cG"
      },
      "execution_count": null,
      "outputs": []
    },
    {
      "cell_type": "markdown",
      "source": [
        "### Random tensors\n",
        "Why random tensors ?\n",
        "\n",
        "Random tensors are important because the way many neural networks learn, is that they start with tensors full of random numbers, and then adjust those random numbers to better represent the data.\n",
        "\n",
        "`Start with random numbers -> look at data -> update random numbers -> look at data -> update random numbers etc`"
      ],
      "metadata": {
        "id": "b3U8sv_JEvTc"
      }
    },
    {
      "cell_type": "code",
      "source": [
        "# Create a random tensor of size (3, 4) < https://pytorch.org/docs/stable/generated/torch.rand.html >\n",
        "random_tensor = torch.rand(3, 4)\n",
        "random_tensor"
      ],
      "metadata": {
        "id": "NP6lzTO3EzRC"
      },
      "execution_count": null,
      "outputs": []
    },
    {
      "cell_type": "code",
      "source": [
        "# Dimentions of this random tensor\n",
        "random_tensor.ndim"
      ],
      "metadata": {
        "id": "Q5pYe2R-F0nS"
      },
      "execution_count": null,
      "outputs": []
    },
    {
      "cell_type": "code",
      "source": [
        "# Create a random tensor, with similar shape to an image tensor\n",
        "random_image_size_tensor = torch.rand(size=(244, 244, 3)) # height, width, color channel RGB\n",
        "random_image_size_tensor.shape, random_image_size_tensor.ndim"
      ],
      "metadata": {
        "id": "CGJuX8cyGFUV"
      },
      "execution_count": null,
      "outputs": []
    },
    {
      "cell_type": "markdown",
      "source": [
        "## Zeros and ones tensors"
      ],
      "metadata": {
        "id": "TrsMDYhyH8Yv"
      }
    },
    {
      "cell_type": "code",
      "source": [
        "# Creating a tensor of all zeros\n",
        "zeros = torch.zeros(size=(3, 4))\n",
        "zeros"
      ],
      "metadata": {
        "id": "yZ3eGToQIA-G"
      },
      "execution_count": null,
      "outputs": []
    },
    {
      "cell_type": "code",
      "source": [
        "# Create a tensor of all ones\n",
        "ones = torch.ones(size=(3, 4))\n",
        "ones"
      ],
      "metadata": {
        "id": "aDdmoozvIKph"
      },
      "execution_count": null,
      "outputs": []
    },
    {
      "cell_type": "code",
      "source": [
        "# As we can see we are using floats by default\n",
        "ones.type()"
      ],
      "metadata": {
        "id": "vowi9ssaIdp1"
      },
      "execution_count": null,
      "outputs": []
    },
    {
      "cell_type": "code",
      "source": [
        "ones.dtype"
      ],
      "metadata": {
        "id": "NiiENU4fIoBp"
      },
      "execution_count": null,
      "outputs": []
    },
    {
      "cell_type": "markdown",
      "source": [
        "## Creating a range of tensors and tensors-like"
      ],
      "metadata": {
        "id": "pV6ywiHqI8BE"
      }
    },
    {
      "cell_type": "code",
      "source": [
        "# Using torch.range() - Depricated use torch.arange(start, end, step)\n",
        "torch.range(0, 10)"
      ],
      "metadata": {
        "id": "0tqzQs6EJAIi"
      },
      "execution_count": null,
      "outputs": []
    },
    {
      "cell_type": "code",
      "source": [
        "# Using torch.arange()\n",
        "one_to_ten = torch.arange(start=1, end=10, step=1)\n",
        "one_to_ten"
      ],
      "metadata": {
        "id": "KmyzwwDaJG8l"
      },
      "execution_count": null,
      "outputs": []
    },
    {
      "cell_type": "code",
      "source": [
        "# Creating tensors like ( for example a particular shape of tensor )\n",
        "ten_zeroes = torch.zeros_like(input=one_to_ten)\n",
        "ten_zeroes"
      ],
      "metadata": {
        "id": "gD9yK3wPJl4-"
      },
      "execution_count": null,
      "outputs": []
    },
    {
      "cell_type": "markdown",
      "source": [
        "### Tensor datatypes \n",
        "## https://pytorch.org/docs/stable/tensors.html\n",
        "**Note:** Tensor datatypes is one of the 3 big errors you will run into with PyTorch & deep learning:\n",
        "1. Tensors not right dataype\n",
        "2. Tensors not right shape\n",
        "3. Tensors not on right device"
      ],
      "metadata": {
        "id": "ZB1NyFlZLPC-"
      }
    },
    {
      "cell_type": "code",
      "source": [
        "# Creating a float32 tensor\n",
        "float_32_tensor = torch.tensor([3., 6., 9.],\n",
        "                               dtype=None, # What data type is the tensor\n",
        "                               device=None, # What device the tensor is on\n",
        "                               requires_grad=False) # Wether or not to track gradients with this tensors operations\n",
        "float_32_tensor"
      ],
      "metadata": {
        "id": "M7_CqQ3pLRkA"
      },
      "execution_count": null,
      "outputs": []
    },
    {
      "cell_type": "code",
      "source": [
        "# As we can see, the default data type in torch is float32\n",
        "float_32_tensor.dtype"
      ],
      "metadata": {
        "id": "Gsl1W1pNLfet"
      },
      "execution_count": null,
      "outputs": []
    },
    {
      "cell_type": "code",
      "source": [
        "# Let us do a floar 16 tensor for example\n",
        "float_16_tensor = torch.tensor([5, 5, 7],\n",
        "                               dtype=torch.float16)\n",
        "float_16_tensor"
      ],
      "metadata": {
        "id": "nJguNWiKLneP"
      },
      "execution_count": null,
      "outputs": []
    },
    {
      "cell_type": "code",
      "source": [
        "# A different way of creating a 16 bit tensor from a 32 bit tensor\n",
        "float_16_tensor_b = float_32_tensor.type(torch.float16)\n",
        "float_16_tensor_b"
      ],
      "metadata": {
        "id": "olxAbK8FMBe2"
      },
      "execution_count": null,
      "outputs": []
    },
    {
      "cell_type": "code",
      "source": [
        "# Experiment of multiplying 2 tensors of different data types\n",
        "tensor_32x16 = float_32_tensor * float_16_tensor\n",
        "tensor_32x16"
      ],
      "metadata": {
        "id": "1DnIVqILOO_b"
      },
      "execution_count": null,
      "outputs": []
    },
    {
      "cell_type": "code",
      "source": [
        "# What data type dose it have now? ( I think before running the experiment that it will convert it up )\n",
        "tensor_32x16.dtype"
      ],
      "metadata": {
        "id": "4lnDzRWsOjdw"
      },
      "execution_count": null,
      "outputs": []
    },
    {
      "cell_type": "code",
      "source": [
        "# Let us run an experiment with operations between int and float tensors\n",
        "int_32_tensor = torch.tensor([3, 6, 9],\n",
        "                             dtype=torch.int32)\n",
        "int_32_tensor, int_32_tensor * float_32_tensor"
      ],
      "metadata": {
        "id": "O924ho0IO0yN"
      },
      "execution_count": null,
      "outputs": []
    },
    {
      "cell_type": "markdown",
      "source": [
        "### Getting information from tensors\n",
        "\n",
        "1.Tensors not right dataype - `tensor.dtype` <br>\n",
        "2.Tensors not right shape - `tensor.shape`<br>\n",
        "3.Tensors not on right device - `tensor.device`<br>"
      ],
      "metadata": {
        "id": "dtq_C_kzP8aK"
      }
    },
    {
      "cell_type": "code",
      "source": [
        "# Create a random tensor , to do some experiments\n",
        "some_tensor = torch.rand(size=(3,4))\n",
        "some_tensor"
      ],
      "metadata": {
        "id": "wbpLRrxzQOUj"
      },
      "execution_count": null,
      "outputs": []
    },
    {
      "cell_type": "code",
      "source": [
        "# Let us see the default attributes of a random tensor\n",
        "print(f\"The actual tensor: {some_tensor}\")\n",
        "print(f\"Datatype of the tensor: {some_tensor.dtype}\")\n",
        "print(f\"Shape of the tensor: {some_tensor.shape}\")\n",
        "print(f\"Device the tensor is on: {some_tensor.device}\")"
      ],
      "metadata": {
        "id": "Rkf_TQQ5Q1wr"
      },
      "execution_count": null,
      "outputs": []
    },
    {
      "cell_type": "markdown",
      "source": [
        "### Manipulating Tensors (tensor operations)\n",
        "\n",
        "Tensor operations include:\n",
        "* Addition\n",
        "* Substraction\n",
        "* Multiplication (element-wise)\n",
        "* Division\n",
        "* Matrix multiplication"
      ],
      "metadata": {
        "id": "x4iQ0dnoSHVj"
      }
    },
    {
      "cell_type": "code",
      "source": [
        "# Create a random tensor\n",
        "tensor = torch.tensor([1, 2, 3])\n",
        "tensor + 10"
      ],
      "metadata": {
        "id": "eN0FgdX4SWr0"
      },
      "execution_count": null,
      "outputs": []
    },
    {
      "cell_type": "code",
      "source": [
        "# Multiplication\n",
        "tensor * 10"
      ],
      "metadata": {
        "id": "3_5r4x40Ss32"
      },
      "execution_count": null,
      "outputs": []
    },
    {
      "cell_type": "code",
      "source": [
        "# Subtraction\n",
        "tensor - 10"
      ],
      "metadata": {
        "id": "O_cyV8rJSwXv"
      },
      "execution_count": null,
      "outputs": []
    },
    {
      "cell_type": "code",
      "source": [
        "# Try out PyTorch inbuilt functions\n",
        "torch.mul(tensor, 10)"
      ],
      "metadata": {
        "id": "jef3-WznS8Pp"
      },
      "execution_count": null,
      "outputs": []
    },
    {
      "cell_type": "code",
      "source": [
        "torch.add(tensor, -10)"
      ],
      "metadata": {
        "id": "UpFX1l1jTDh9"
      },
      "execution_count": null,
      "outputs": []
    },
    {
      "cell_type": "markdown",
      "source": [
        "### Matrix multiplication\n",
        "\n",
        "Two main ways of performing matrix multiplication:\n",
        "1. Element-wise multiplication\n",
        "2. Matrix multiplication ( the dor product )"
      ],
      "metadata": {
        "id": "gvjvOee_UeVS"
      }
    },
    {
      "cell_type": "code",
      "source": [
        "# Element wise multiplication\n",
        "print(f\"{tensor} * {tensor} = {tensor*tensor}\")"
      ],
      "metadata": {
        "id": "B78y2dqEVEf1"
      },
      "execution_count": null,
      "outputs": []
    },
    {
      "cell_type": "code",
      "source": [
        "# Matrix multiplication\n",
        "torch.matmul(tensor, tensor)"
      ],
      "metadata": {
        "id": "mdsXMENbVZLE"
      },
      "execution_count": null,
      "outputs": []
    },
    {
      "cell_type": "code",
      "source": [
        "# Matrix multiplication on actual matrix ( not vectors )\n",
        "MATRIX_A = torch.tensor([[1, 2],\n",
        "                         [3, 4]])\n",
        "MATRIX_B = torch.tensor([[5, 6],\n",
        "                         [7, 8]])\n",
        "torch.matmul(MATRIX_A, MATRIX_B)"
      ],
      "metadata": {
        "id": "xwoHM7njVjcw"
      },
      "execution_count": null,
      "outputs": []
    },
    {
      "cell_type": "markdown",
      "source": [
        "### One of the most comon errors in deep learning is the shape error\n",
        "* Inner dimetions must match when multiplying 2 matrices.\n",
        "* The resulting Matrix, has the shape of the **outer dimentions**. ( number of rows from MATRIX_A and number of columns from MATRIX_B )"
      ],
      "metadata": {
        "id": "miCnokc-XF1L"
      }
    },
    {
      "cell_type": "code",
      "source": [
        "# Experiment multiplying matrices with matiching inner dimentions\n",
        "torch.matmul(torch.rand(3, 10), torch.rand(10, 3))"
      ],
      "metadata": {
        "id": "4_SITezbYIGL"
      },
      "execution_count": null,
      "outputs": []
    },
    {
      "cell_type": "code",
      "source": [
        "# Experiment multiplying matrices with unmatiching inner dimentions\n",
        "torch.matmul(torch.rand(3, 11), torch.rand(10, 3))"
      ],
      "metadata": {
        "id": "mQe_8aycYdmK"
      },
      "execution_count": null,
      "outputs": []
    },
    {
      "cell_type": "code",
      "source": [
        "# Shapes for matrix multiplication\n",
        "tensor_A = torch.tensor([[1, 2],\n",
        "                         [2, 4],\n",
        "                         [5, 6]])\n",
        "tensor_B = torch.tensor([[7, 10],\n",
        "                         [8, 11],\n",
        "                         [9, 12]])\n",
        "\n",
        "torch.matmul(tensor_A, tensor_B) # torch.matmul() = torch.mm()"
      ],
      "metadata": {
        "id": "HADbOha3Y6I7"
      },
      "execution_count": null,
      "outputs": []
    },
    {
      "cell_type": "markdown",
      "source": [
        "To fix our tensor issues, we can manipulate the shape of one of our tensors using.<br> A **transpose**.\n",
        "a **transpose** switches the axes or dimentions of a given tensor."
      ],
      "metadata": {
        "id": "MngUgmQFaTaq"
      }
    },
    {
      "cell_type": "code",
      "source": [
        "tensor_B, tensor_B.shape"
      ],
      "metadata": {
        "id": "WLifSeqFaiAI"
      },
      "execution_count": null,
      "outputs": []
    },
    {
      "cell_type": "code",
      "source": [
        "# The transpose of B\n",
        "tensor_B.T , tensor_B.T.shape"
      ],
      "metadata": {
        "id": "I4PS1-vPaq-8"
      },
      "execution_count": null,
      "outputs": []
    },
    {
      "cell_type": "code",
      "source": [
        "# As we can imagine, now we can go forward and multiply tensor_A with the transpose of tensor_B\n",
        "torch.matmul(tensor_A, tensor_B.T)"
      ],
      "metadata": {
        "id": "wuJtGF3WavA4"
      },
      "execution_count": null,
      "outputs": []
    },
    {
      "cell_type": "markdown",
      "source": [
        "## Finding the min, max, mean, sum etc ( tensor aggregation )"
      ],
      "metadata": {
        "id": "avBB43I_O9jC"
      }
    },
    {
      "cell_type": "code",
      "source": [
        "# Create a demo tensor\n",
        "x = torch.arange(0, 100, 10)\n",
        "x"
      ],
      "metadata": {
        "id": "Oh2E1ChiPE_R",
        "outputId": "9aace105-fe53-4847-da41-75560f86c8bb",
        "colab": {
          "base_uri": "https://localhost:8080/"
        }
      },
      "execution_count": 10,
      "outputs": [
        {
          "output_type": "execute_result",
          "data": {
            "text/plain": [
              "tensor([ 0, 10, 20, 30, 40, 50, 60, 70, 80, 90])"
            ]
          },
          "metadata": {},
          "execution_count": 10
        }
      ]
    },
    {
      "cell_type": "code",
      "source": [
        "# Find the min\n",
        "torch.min(x), x.min()"
      ],
      "metadata": {
        "id": "6owBCwVGPUon",
        "outputId": "940f2c9c-9798-45fd-a5c4-2ed779dbc9a0",
        "colab": {
          "base_uri": "https://localhost:8080/"
        }
      },
      "execution_count": 11,
      "outputs": [
        {
          "output_type": "execute_result",
          "data": {
            "text/plain": [
              "(tensor(0), tensor(0))"
            ]
          },
          "metadata": {},
          "execution_count": 11
        }
      ]
    },
    {
      "cell_type": "code",
      "source": [
        "# Find the max \n",
        "torch.max(x), x.max()"
      ],
      "metadata": {
        "id": "d2t4rhLBPxmK",
        "outputId": "06d4e489-e5da-49c5-d2f1-2b01d0b01d93",
        "colab": {
          "base_uri": "https://localhost:8080/"
        }
      },
      "execution_count": 12,
      "outputs": [
        {
          "output_type": "execute_result",
          "data": {
            "text/plain": [
              "(tensor(90), tensor(90))"
            ]
          },
          "metadata": {},
          "execution_count": 12
        }
      ]
    },
    {
      "cell_type": "code",
      "source": [
        "# Find the avarage ( mean )  - As we can see we have to convert them because when we createed the tensor it was int64. Mean functions don't work on int64.\n",
        "torch.mean(x.type(torch.float32)), x.type(torch.float32).mean()"
      ],
      "metadata": {
        "id": "2l8HQGrdP65z",
        "outputId": "bd989f28-7746-4833-86a2-8f8694f30eb2",
        "colab": {
          "base_uri": "https://localhost:8080/"
        }
      },
      "execution_count": 16,
      "outputs": [
        {
          "output_type": "execute_result",
          "data": {
            "text/plain": [
              "(tensor(45.), tensor(45.))"
            ]
          },
          "metadata": {},
          "execution_count": 16
        }
      ]
    },
    {
      "cell_type": "code",
      "source": [
        "# Find the sum\n",
        "torch.sum(x), x.sum()"
      ],
      "metadata": {
        "id": "eUU-_o4PQEFm",
        "outputId": "237ac463-eabf-44f8-a683-15b4bd7cb98a",
        "colab": {
          "base_uri": "https://localhost:8080/"
        }
      },
      "execution_count": 17,
      "outputs": [
        {
          "output_type": "execute_result",
          "data": {
            "text/plain": [
              "(tensor(450), tensor(450))"
            ]
          },
          "metadata": {},
          "execution_count": 17
        }
      ]
    },
    {
      "cell_type": "code",
      "source": [
        "# Find teh index of the min and max\n",
        "torch.argmin(x), torch.argmax(x)"
      ],
      "metadata": {
        "id": "UlyYcgM-Q8C2",
        "outputId": "60af46cf-3f8c-443d-fe26-5552c4d9f836",
        "colab": {
          "base_uri": "https://localhost:8080/"
        }
      },
      "execution_count": 18,
      "outputs": [
        {
          "output_type": "execute_result",
          "data": {
            "text/plain": [
              "(tensor(0), tensor(9))"
            ]
          },
          "metadata": {},
          "execution_count": 18
        }
      ]
    },
    {
      "cell_type": "code",
      "source": [],
      "metadata": {
        "id": "TN2PyWAsRTQQ"
      },
      "execution_count": null,
      "outputs": []
    }
  ]
}