{
  "nbformat": 4,
  "nbformat_minor": 0,
  "metadata": {
    "colab": {
      "provenance": [],
      "authorship_tag": "ABX9TyOk1j2UjnxvHrZgre2NhKSx",
      "include_colab_link": true
    },
    "kernelspec": {
      "name": "python3",
      "display_name": "Python 3"
    },
    "language_info": {
      "name": "python"
    }
  },
  "cells": [
    {
      "cell_type": "markdown",
      "metadata": {
        "id": "view-in-github",
        "colab_type": "text"
      },
      "source": [
        "<a href=\"https://colab.research.google.com/github/Sebastian-Constantin-Iacob/learning_pytorch/blob/main/00_pytorch_fundamentals.ipynb\" target=\"_parent\"><img src=\"https://colab.research.google.com/assets/colab-badge.svg\" alt=\"Open In Colab\"/></a>"
      ]
    },
    {
      "cell_type": "code",
      "execution_count": 1,
      "metadata": {
        "id": "gYHbrg1b4WlJ",
        "colab": {
          "base_uri": "https://localhost:8080/"
        },
        "outputId": "369904e9-6c26-445c-9165-5b58bd965b4e"
      },
      "outputs": [
        {
          "output_type": "stream",
          "name": "stdout",
          "text": [
            "2.0.0+cu118\n"
          ]
        }
      ],
      "source": [
        "import torch\n",
        "import pandas as pd\n",
        "import numpy as np\n",
        "import matplotlib.pyplot as plt\n",
        "print(torch.__version__)"
      ]
    },
    {
      "cell_type": "markdown",
      "source": [
        "## Introduction to Tensors\n",
        "### Creating tensors\n",
        "### PyTorch tensors are created using torch.Tensor(). See documentation at: https://pytorch.org/docs/stable/tensors.html"
      ],
      "metadata": {
        "id": "MO3cXS22-Wps"
      }
    },
    {
      "cell_type": "code",
      "source": [
        "# Scalar\n",
        "scalar = torch.tensor(7)\n",
        "scalar"
      ],
      "metadata": {
        "colab": {
          "base_uri": "https://localhost:8080/"
        },
        "id": "9Sr8-o1h-XvA",
        "outputId": "e193bcf1-5b2e-4662-9b43-7337e3de6bc3"
      },
      "execution_count": 2,
      "outputs": [
        {
          "output_type": "execute_result",
          "data": {
            "text/plain": [
              "tensor(7)"
            ]
          },
          "metadata": {},
          "execution_count": 2
        }
      ]
    },
    {
      "cell_type": "code",
      "source": [
        "# A scalar has 0 dimentions\n",
        "scalar.ndim"
      ],
      "metadata": {
        "colab": {
          "base_uri": "https://localhost:8080/"
        },
        "id": "tbTDGf28-n-x",
        "outputId": "25b20750-29f7-4563-fb22-be39e8b17842"
      },
      "execution_count": 3,
      "outputs": [
        {
          "output_type": "execute_result",
          "data": {
            "text/plain": [
              "0"
            ]
          },
          "metadata": {},
          "execution_count": 3
        }
      ]
    },
    {
      "cell_type": "code",
      "source": [
        "# We can get the tensor back, in this case as a Python int\n",
        "scalar.item()"
      ],
      "metadata": {
        "colab": {
          "base_uri": "https://localhost:8080/"
        },
        "id": "R7Xqm3bc_tAB",
        "outputId": "5eaa6eb7-cd52-455f-b96c-47a08338ee1d"
      },
      "execution_count": 4,
      "outputs": [
        {
          "output_type": "execute_result",
          "data": {
            "text/plain": [
              "7"
            ]
          },
          "metadata": {},
          "execution_count": 4
        }
      ]
    },
    {
      "cell_type": "code",
      "source": [
        "# A vector as a tensor\n",
        "vector = torch.tensor([7,7])\n",
        "vector"
      ],
      "metadata": {
        "colab": {
          "base_uri": "https://localhost:8080/"
        },
        "id": "Pa8pmIc8_7Ir",
        "outputId": "cc3083e1-3e8e-4c39-e089-d826dd6bcd5a"
      },
      "execution_count": 5,
      "outputs": [
        {
          "output_type": "execute_result",
          "data": {
            "text/plain": [
              "tensor([7, 7])"
            ]
          },
          "metadata": {},
          "execution_count": 5
        }
      ]
    },
    {
      "cell_type": "code",
      "source": [
        "# A vector is considered as having 1 dimention\n",
        "vector.ndim"
      ],
      "metadata": {
        "colab": {
          "base_uri": "https://localhost:8080/"
        },
        "id": "_ua9ySETAPrM",
        "outputId": "aa69d96a-c8ea-4bb2-c74e-ffe361a3d268"
      },
      "execution_count": 6,
      "outputs": [
        {
          "output_type": "execute_result",
          "data": {
            "text/plain": [
              "1"
            ]
          },
          "metadata": {},
          "execution_count": 6
        }
      ]
    },
    {
      "cell_type": "code",
      "source": [
        "# A vector can not be retrived as an item\n",
        "vector.item()"
      ],
      "metadata": {
        "colab": {
          "base_uri": "https://localhost:8080/",
          "height": 165
        },
        "id": "OHVEzAdXAb5o",
        "outputId": "420c4421-5100-41d4-f428-6a67ca4c92d7"
      },
      "execution_count": 7,
      "outputs": [
        {
          "output_type": "error",
          "ename": "RuntimeError",
          "evalue": "ignored",
          "traceback": [
            "\u001b[0;31m---------------------------------------------------------------------------\u001b[0m",
            "\u001b[0;31mRuntimeError\u001b[0m                              Traceback (most recent call last)",
            "\u001b[0;32m<ipython-input-7-bac96449ccf9>\u001b[0m in \u001b[0;36m<cell line: 1>\u001b[0;34m()\u001b[0m\n\u001b[0;32m----> 1\u001b[0;31m \u001b[0mvector\u001b[0m\u001b[0;34m.\u001b[0m\u001b[0mitem\u001b[0m\u001b[0;34m(\u001b[0m\u001b[0;34m)\u001b[0m\u001b[0;34m\u001b[0m\u001b[0;34m\u001b[0m\u001b[0m\n\u001b[0m",
            "\u001b[0;31mRuntimeError\u001b[0m: a Tensor with 2 elements cannot be converted to Scalar"
          ]
        }
      ]
    },
    {
      "cell_type": "code",
      "source": [
        "# We can get the shape of a vacor \n",
        "vector.shape"
      ],
      "metadata": {
        "colab": {
          "base_uri": "https://localhost:8080/"
        },
        "id": "FhLDwi3aAheF",
        "outputId": "58a7f31e-9059-4027-f705-bdcf8d58f9fb"
      },
      "execution_count": 8,
      "outputs": [
        {
          "output_type": "execute_result",
          "data": {
            "text/plain": [
              "torch.Size([2])"
            ]
          },
          "metadata": {},
          "execution_count": 8
        }
      ]
    },
    {
      "cell_type": "code",
      "source": [
        "# Creating a MATRIX\n",
        "MATRIX = torch.tensor([[7 ,8],\n",
        "                      [9, 10]])\n",
        "MATRIX"
      ],
      "metadata": {
        "colab": {
          "base_uri": "https://localhost:8080/"
        },
        "id": "KkKiznY2A7M4",
        "outputId": "2abe203b-4f17-44b6-b66f-38c8ff355577"
      },
      "execution_count": 10,
      "outputs": [
        {
          "output_type": "execute_result",
          "data": {
            "text/plain": [
              "tensor([[ 7,  8],\n",
              "        [ 9, 10]])"
            ]
          },
          "metadata": {},
          "execution_count": 10
        }
      ]
    },
    {
      "cell_type": "code",
      "source": [
        "# Numbers of dimentions for a MATRIX\n",
        "MATRIX.ndim"
      ],
      "metadata": {
        "colab": {
          "base_uri": "https://localhost:8080/"
        },
        "id": "GOIpBnUNBOqU",
        "outputId": "74eb143a-e0bd-41f5-f26a-b690fad78f89"
      },
      "execution_count": 11,
      "outputs": [
        {
          "output_type": "execute_result",
          "data": {
            "text/plain": [
              "2"
            ]
          },
          "metadata": {},
          "execution_count": 11
        }
      ]
    },
    {
      "cell_type": "code",
      "source": [
        "# The shape of a MATRIX\n",
        "MATRIX.shape"
      ],
      "metadata": {
        "colab": {
          "base_uri": "https://localhost:8080/"
        },
        "id": "fb4M2nzdBi-0",
        "outputId": "1dc36b39-636a-4f39-b49e-9eb263dbc85f"
      },
      "execution_count": 15,
      "outputs": [
        {
          "output_type": "execute_result",
          "data": {
            "text/plain": [
              "torch.Size([2, 2])"
            ]
          },
          "metadata": {},
          "execution_count": 15
        }
      ]
    },
    {
      "cell_type": "code",
      "source": [
        "# Accesing the rows of a matrix\n",
        "MATRIX[0]"
      ],
      "metadata": {
        "colab": {
          "base_uri": "https://localhost:8080/"
        },
        "id": "Hj_eX8riBnGX",
        "outputId": "d0c90c67-73f4-4977-c119-88d1de7d502e"
      },
      "execution_count": 19,
      "outputs": [
        {
          "output_type": "execute_result",
          "data": {
            "text/plain": [
              "tensor([7, 8])"
            ]
          },
          "metadata": {},
          "execution_count": 19
        }
      ]
    },
    {
      "cell_type": "code",
      "source": [
        "# Accesing the rows of a matrix\n",
        "MATRIX[1]"
      ],
      "metadata": {
        "colab": {
          "base_uri": "https://localhost:8080/"
        },
        "id": "bjS8sdV5B1_I",
        "outputId": "b7c263d0-9efc-47b4-e8a3-2f618c594bd3"
      },
      "execution_count": 20,
      "outputs": [
        {
          "output_type": "execute_result",
          "data": {
            "text/plain": [
              "tensor([ 9, 10])"
            ]
          },
          "metadata": {},
          "execution_count": 20
        }
      ]
    },
    {
      "cell_type": "code",
      "source": [
        "# A tensor that is a larger matrix ( 3x3 )\n",
        "TENSOR = torch.tensor([[[1, 2, 3],\n",
        "                      [3, 6, 9],\n",
        "                      [2, 4, 5]]])\n",
        "TENSOR"
      ],
      "metadata": {
        "colab": {
          "base_uri": "https://localhost:8080/"
        },
        "id": "QL9BaqHPCCGq",
        "outputId": "eba0aab6-5901-4b1f-82bd-7c3831dd96a7"
      },
      "execution_count": 21,
      "outputs": [
        {
          "output_type": "execute_result",
          "data": {
            "text/plain": [
              "tensor([[[1, 2, 3],\n",
              "         [3, 6, 9],\n",
              "         [2, 4, 5]]])"
            ]
          },
          "metadata": {},
          "execution_count": 21
        }
      ]
    },
    {
      "cell_type": "code",
      "source": [
        "# Tensor dimentions\n",
        "TENSOR.ndim"
      ],
      "metadata": {
        "colab": {
          "base_uri": "https://localhost:8080/"
        },
        "id": "AS22UsdMCzEk",
        "outputId": "782900c6-a2de-4aec-92b9-87e33edc20b7"
      },
      "execution_count": 22,
      "outputs": [
        {
          "output_type": "execute_result",
          "data": {
            "text/plain": [
              "3"
            ]
          },
          "metadata": {},
          "execution_count": 22
        }
      ]
    },
    {
      "cell_type": "code",
      "source": [
        "# The shape of a 3x3 tensor ( we can read it as one three by three tensor (1, 3, 3) )\n",
        "TENSOR.shape"
      ],
      "metadata": {
        "colab": {
          "base_uri": "https://localhost:8080/"
        },
        "id": "QEggpb5VC4cG",
        "outputId": "7a42bab6-6db2-4b9a-f1e7-c71228b7a6d9"
      },
      "execution_count": 24,
      "outputs": [
        {
          "output_type": "execute_result",
          "data": {
            "text/plain": [
              "torch.Size([1, 3, 3])"
            ]
          },
          "metadata": {},
          "execution_count": 24
        }
      ]
    },
    {
      "cell_type": "markdown",
      "source": [
        "### Random tensors\n",
        "Why random tensors ?\n",
        "\n",
        "Random tensors are important because the way many neural networks learn, is that they start with tensors full of random numbers, and then adjust those random numbers to better represent the data.\n",
        "\n",
        "`Start with random numbers -> look at data -> update random numbers -> look at data -> update random numbers etc`"
      ],
      "metadata": {
        "id": "b3U8sv_JEvTc"
      }
    },
    {
      "cell_type": "code",
      "source": [
        "# Create a random tensor of size (3, 4) < https://pytorch.org/docs/stable/generated/torch.rand.html >\n",
        "random_tensor = torch.rand(3, 4)\n",
        "random_tensor"
      ],
      "metadata": {
        "colab": {
          "base_uri": "https://localhost:8080/"
        },
        "id": "NP6lzTO3EzRC",
        "outputId": "7fc73953-aef3-4c84-d26c-c975c71cdff8"
      },
      "execution_count": 25,
      "outputs": [
        {
          "output_type": "execute_result",
          "data": {
            "text/plain": [
              "tensor([[0.9198, 0.5913, 0.9677, 0.7077],\n",
              "        [0.7111, 0.8037, 0.1164, 0.5330],\n",
              "        [0.9095, 0.6209, 0.8629, 0.0363]])"
            ]
          },
          "metadata": {},
          "execution_count": 25
        }
      ]
    },
    {
      "cell_type": "code",
      "source": [
        "# Dimentions of this random tensor\n",
        "random_tensor.ndim"
      ],
      "metadata": {
        "colab": {
          "base_uri": "https://localhost:8080/"
        },
        "id": "Q5pYe2R-F0nS",
        "outputId": "7c05df3d-4ef7-4018-ddcc-7b84311c6f9c"
      },
      "execution_count": 26,
      "outputs": [
        {
          "output_type": "execute_result",
          "data": {
            "text/plain": [
              "2"
            ]
          },
          "metadata": {},
          "execution_count": 26
        }
      ]
    },
    {
      "cell_type": "code",
      "source": [
        "# Create a random tensor, with similar shape to an image tensor\n",
        "random_image_size_tensor = torch.rand(size=(244, 244, 3)) # height, width, color channel RGB\n",
        "random_image_size_tensor.shape, random_image_size_tensor.ndim"
      ],
      "metadata": {
        "colab": {
          "base_uri": "https://localhost:8080/"
        },
        "id": "CGJuX8cyGFUV",
        "outputId": "c946f81b-4406-4440-dedc-440f2321bdb7"
      },
      "execution_count": 27,
      "outputs": [
        {
          "output_type": "execute_result",
          "data": {
            "text/plain": [
              "(torch.Size([244, 244, 3]), 3)"
            ]
          },
          "metadata": {},
          "execution_count": 27
        }
      ]
    },
    {
      "cell_type": "markdown",
      "source": [
        "## Zeros and ones tensors"
      ],
      "metadata": {
        "id": "TrsMDYhyH8Yv"
      }
    },
    {
      "cell_type": "code",
      "source": [
        "# Creating a tensor of all zeros\n",
        "zeros = torch.zeros(size=(3, 4))\n",
        "zeros"
      ],
      "metadata": {
        "colab": {
          "base_uri": "https://localhost:8080/"
        },
        "id": "yZ3eGToQIA-G",
        "outputId": "16996b29-d233-4e35-fd25-452c9123e994"
      },
      "execution_count": 29,
      "outputs": [
        {
          "output_type": "execute_result",
          "data": {
            "text/plain": [
              "tensor([[0., 0., 0., 0.],\n",
              "        [0., 0., 0., 0.],\n",
              "        [0., 0., 0., 0.]])"
            ]
          },
          "metadata": {},
          "execution_count": 29
        }
      ]
    },
    {
      "cell_type": "code",
      "source": [
        "# Create a tensor of all ones\n",
        "ones = torch.ones(size=(3, 4))\n",
        "ones"
      ],
      "metadata": {
        "colab": {
          "base_uri": "https://localhost:8080/"
        },
        "id": "aDdmoozvIKph",
        "outputId": "ea34bdc6-9129-4e63-b1c3-041348d2ec40"
      },
      "execution_count": 30,
      "outputs": [
        {
          "output_type": "execute_result",
          "data": {
            "text/plain": [
              "tensor([[1., 1., 1., 1.],\n",
              "        [1., 1., 1., 1.],\n",
              "        [1., 1., 1., 1.]])"
            ]
          },
          "metadata": {},
          "execution_count": 30
        }
      ]
    },
    {
      "cell_type": "code",
      "source": [
        "# As we can see we are using floats by default\n",
        "ones.type()"
      ],
      "metadata": {
        "colab": {
          "base_uri": "https://localhost:8080/",
          "height": 35
        },
        "id": "vowi9ssaIdp1",
        "outputId": "c45792c3-f704-44c7-8f48-f7eb895bd838"
      },
      "execution_count": 31,
      "outputs": [
        {
          "output_type": "execute_result",
          "data": {
            "text/plain": [
              "'torch.FloatTensor'"
            ],
            "application/vnd.google.colaboratory.intrinsic+json": {
              "type": "string"
            }
          },
          "metadata": {},
          "execution_count": 31
        }
      ]
    },
    {
      "cell_type": "code",
      "source": [
        "ones.dtype"
      ],
      "metadata": {
        "colab": {
          "base_uri": "https://localhost:8080/"
        },
        "id": "NiiENU4fIoBp",
        "outputId": "9855d24d-2890-4771-b9a3-7b31f934475c"
      },
      "execution_count": 33,
      "outputs": [
        {
          "output_type": "execute_result",
          "data": {
            "text/plain": [
              "torch.float32"
            ]
          },
          "metadata": {},
          "execution_count": 33
        }
      ]
    },
    {
      "cell_type": "markdown",
      "source": [
        "## Creating a range of tensors and tensors-like"
      ],
      "metadata": {
        "id": "pV6ywiHqI8BE"
      }
    },
    {
      "cell_type": "code",
      "source": [
        "# Using torch.range() - Depricated use torch.arange(start, end, step)\n",
        "torch.range(0, 10)"
      ],
      "metadata": {
        "colab": {
          "base_uri": "https://localhost:8080/"
        },
        "id": "0tqzQs6EJAIi",
        "outputId": "0a6c5b35-afb0-4027-8f8e-33973d4866cb"
      },
      "execution_count": 34,
      "outputs": [
        {
          "output_type": "stream",
          "name": "stderr",
          "text": [
            "<ipython-input-34-9e8d4bb9e1be>:2: UserWarning: torch.range is deprecated and will be removed in a future release because its behavior is inconsistent with Python's range builtin. Instead, use torch.arange, which produces values in [start, end).\n",
            "  torch.range(0, 10)\n"
          ]
        },
        {
          "output_type": "execute_result",
          "data": {
            "text/plain": [
              "tensor([ 0.,  1.,  2.,  3.,  4.,  5.,  6.,  7.,  8.,  9., 10.])"
            ]
          },
          "metadata": {},
          "execution_count": 34
        }
      ]
    },
    {
      "cell_type": "code",
      "source": [
        "# Using torch.arange()\n",
        "one_to_ten = torch.arange(start=1, end=10, step=1)\n",
        "one_to_ten"
      ],
      "metadata": {
        "colab": {
          "base_uri": "https://localhost:8080/"
        },
        "id": "KmyzwwDaJG8l",
        "outputId": "3f3cafd8-6f3d-4021-dc57-b19141eeeed5"
      },
      "execution_count": 37,
      "outputs": [
        {
          "output_type": "execute_result",
          "data": {
            "text/plain": [
              "tensor([1, 2, 3, 4, 5, 6, 7, 8, 9])"
            ]
          },
          "metadata": {},
          "execution_count": 37
        }
      ]
    },
    {
      "cell_type": "code",
      "source": [
        "# Creating tensors like ( for example a particular shape of tensor )\n",
        "ten_zeroes = torch.zeros_like(input=one_to_ten)\n",
        "ten_zeroes"
      ],
      "metadata": {
        "colab": {
          "base_uri": "https://localhost:8080/"
        },
        "id": "gD9yK3wPJl4-",
        "outputId": "732a3ab1-413f-4a0d-9305-c0d613d357fd"
      },
      "execution_count": 38,
      "outputs": [
        {
          "output_type": "execute_result",
          "data": {
            "text/plain": [
              "tensor([0, 0, 0, 0, 0, 0, 0, 0, 0])"
            ]
          },
          "metadata": {},
          "execution_count": 38
        }
      ]
    },
    {
      "cell_type": "markdown",
      "source": [
        "### Tensor datatypes \n",
        "## https://pytorch.org/docs/stable/tensors.html\n",
        "**Note:** Tensor datatypes is one of the 3 big errors you will run into with PyTorch & deep learning:\n",
        "1. Tensors not right dataype\n",
        "2. Tensors not right shape\n",
        "3. Tensors not on right device"
      ],
      "metadata": {
        "id": "ZB1NyFlZLPC-"
      }
    },
    {
      "cell_type": "code",
      "source": [
        "# Creating a float32 tensor\n",
        "float_32_tensor = torch.tensor([3., 6., 9.],\n",
        "                               dtype=None, # What data type is the tensor\n",
        "                               device=None, # What device the tensor is on\n",
        "                               requires_grad=False) # Wether or not to track gradients with this tensors operations\n",
        "float_32_tensor"
      ],
      "metadata": {
        "colab": {
          "base_uri": "https://localhost:8080/"
        },
        "id": "M7_CqQ3pLRkA",
        "outputId": "126f0a8d-c4d8-4e8d-ac49-2d43806a2c20"
      },
      "execution_count": 43,
      "outputs": [
        {
          "output_type": "execute_result",
          "data": {
            "text/plain": [
              "tensor([3., 6., 9.])"
            ]
          },
          "metadata": {},
          "execution_count": 43
        }
      ]
    },
    {
      "cell_type": "code",
      "source": [
        "# As we can see, the default data type in torch is float32\n",
        "float_32_tensor.dtype"
      ],
      "metadata": {
        "colab": {
          "base_uri": "https://localhost:8080/"
        },
        "id": "Gsl1W1pNLfet",
        "outputId": "99801f6b-463a-494e-c883-86c9fc633f55"
      },
      "execution_count": 41,
      "outputs": [
        {
          "output_type": "execute_result",
          "data": {
            "text/plain": [
              "torch.float32"
            ]
          },
          "metadata": {},
          "execution_count": 41
        }
      ]
    },
    {
      "cell_type": "code",
      "source": [
        "# Let us do a floar 16 tensor for example\n",
        "float_16_tensor = torch.tensor([5, 5, 7],\n",
        "                               dtype=torch.float16)\n",
        "float_16_tensor"
      ],
      "metadata": {
        "colab": {
          "base_uri": "https://localhost:8080/"
        },
        "id": "nJguNWiKLneP",
        "outputId": "0bb951b1-f7df-483c-e8d4-69e8f28da94f"
      },
      "execution_count": 42,
      "outputs": [
        {
          "output_type": "execute_result",
          "data": {
            "text/plain": [
              "tensor([5., 5., 7.], dtype=torch.float16)"
            ]
          },
          "metadata": {},
          "execution_count": 42
        }
      ]
    },
    {
      "cell_type": "code",
      "source": [
        "# A different way of creating a 16 bit tensor from a 32 bit tensor\n",
        "float_16_tensor_b = float_32_tensor.type(torch.float16)\n",
        "float_16_tensor_b"
      ],
      "metadata": {
        "colab": {
          "base_uri": "https://localhost:8080/"
        },
        "id": "olxAbK8FMBe2",
        "outputId": "b38cd5b7-855d-4be7-ad47-709bbb291462"
      },
      "execution_count": 44,
      "outputs": [
        {
          "output_type": "execute_result",
          "data": {
            "text/plain": [
              "tensor([3., 6., 9.], dtype=torch.float16)"
            ]
          },
          "metadata": {},
          "execution_count": 44
        }
      ]
    },
    {
      "cell_type": "code",
      "source": [
        "# Experiment of multiplying 2 tensors of different data types\n",
        "tensor_32x16 = float_32_tensor * float_16_tensor\n",
        "tensor_32x16"
      ],
      "metadata": {
        "colab": {
          "base_uri": "https://localhost:8080/"
        },
        "id": "1DnIVqILOO_b",
        "outputId": "17b13bfd-0caa-4708-bf8d-e6fc384890b2"
      },
      "execution_count": 46,
      "outputs": [
        {
          "output_type": "execute_result",
          "data": {
            "text/plain": [
              "tensor([15., 30., 63.])"
            ]
          },
          "metadata": {},
          "execution_count": 46
        }
      ]
    },
    {
      "cell_type": "code",
      "source": [
        "# What data type dose it have now? ( I think before running the experiment that it will convert it up )\n",
        "tensor_32x16.dtype"
      ],
      "metadata": {
        "colab": {
          "base_uri": "https://localhost:8080/"
        },
        "id": "4lnDzRWsOjdw",
        "outputId": "c2f5b5f9-7085-4eb9-b009-ce04369b51ea"
      },
      "execution_count": 47,
      "outputs": [
        {
          "output_type": "execute_result",
          "data": {
            "text/plain": [
              "torch.float32"
            ]
          },
          "metadata": {},
          "execution_count": 47
        }
      ]
    },
    {
      "cell_type": "code",
      "source": [
        "# Let us run an experiment with operations between int and float tensors\n",
        "int_32_tensor = torch.tensor([3, 6, 9],\n",
        "                             dtype=torch.int32)\n",
        "int_32_tensor, int_32_tensor * float_32_tensor"
      ],
      "metadata": {
        "colab": {
          "base_uri": "https://localhost:8080/"
        },
        "id": "O924ho0IO0yN",
        "outputId": "23b1ed2a-f480-490d-d142-4aef46815a9a"
      },
      "execution_count": 49,
      "outputs": [
        {
          "output_type": "execute_result",
          "data": {
            "text/plain": [
              "(tensor([3, 6, 9], dtype=torch.int32), tensor([ 9., 36., 81.]))"
            ]
          },
          "metadata": {},
          "execution_count": 49
        }
      ]
    },
    {
      "cell_type": "markdown",
      "source": [
        "### Getting information from tensors\n",
        "\n",
        "1.Tensors not right dataype - `tensor.dtype` <br>\n",
        "2.Tensors not right shape - `tensor.shape`<br>\n",
        "3.Tensors not on right device - `tensor.device`<br>"
      ],
      "metadata": {
        "id": "dtq_C_kzP8aK"
      }
    },
    {
      "cell_type": "code",
      "source": [
        "# Create a random tensor , to do some experiments\n",
        "some_tensor = torch.rand(size=(3,4))\n",
        "some_tensor"
      ],
      "metadata": {
        "colab": {
          "base_uri": "https://localhost:8080/"
        },
        "id": "wbpLRrxzQOUj",
        "outputId": "7404bc39-c027-41ed-c94b-259cc1ca3567"
      },
      "execution_count": 50,
      "outputs": [
        {
          "output_type": "execute_result",
          "data": {
            "text/plain": [
              "tensor([[0.0014, 0.5257, 0.8500, 0.1863],\n",
              "        [0.5505, 0.4522, 0.1669, 0.3253],\n",
              "        [0.6138, 0.0272, 0.6315, 0.6074]])"
            ]
          },
          "metadata": {},
          "execution_count": 50
        }
      ]
    },
    {
      "cell_type": "code",
      "source": [
        "# Let us see the default attributes of a random tensor\n",
        "print(f\"The actual tensor: {some_tensor}\")\n",
        "print(f\"Datatype of the tensor: {some_tensor.dtype}\")\n",
        "print(f\"Shape of the tensor: {some_tensor.shape}\")\n",
        "print(f\"Device the tensor is on: {some_tensor.device}\")"
      ],
      "metadata": {
        "id": "Rkf_TQQ5Q1wr",
        "outputId": "aec3aa28-0572-4956-f47d-ccbb5e8a1b7f",
        "colab": {
          "base_uri": "https://localhost:8080/"
        }
      },
      "execution_count": 51,
      "outputs": [
        {
          "output_type": "stream",
          "name": "stdout",
          "text": [
            "The actual tensor: tensor([[0.0014, 0.5257, 0.8500, 0.1863],\n",
            "        [0.5505, 0.4522, 0.1669, 0.3253],\n",
            "        [0.6138, 0.0272, 0.6315, 0.6074]])\n",
            "Datatype of the tensor: torch.float32\n",
            "Shape of the tensor: torch.Size([3, 4])\n",
            "Device the tensor is on: cpu\n"
          ]
        }
      ]
    },
    {
      "cell_type": "markdown",
      "source": [
        "### Manipulating Tensors (tensor operations)\n",
        "\n",
        "Tensor operations include:\n",
        "* Addition\n",
        "* Substraction\n",
        "* Multiplication (element-wise)\n",
        "* Division\n",
        "* Matrix multiplication"
      ],
      "metadata": {
        "id": "x4iQ0dnoSHVj"
      }
    },
    {
      "cell_type": "code",
      "source": [
        "# Create a random tensor\n",
        "tensor = torch.tensor([1, 2, 3])\n",
        "tensor + 10"
      ],
      "metadata": {
        "id": "eN0FgdX4SWr0",
        "outputId": "0571ecd5-75c9-4cb8-f49a-f44ac6f9dee6",
        "colab": {
          "base_uri": "https://localhost:8080/"
        }
      },
      "execution_count": 52,
      "outputs": [
        {
          "output_type": "execute_result",
          "data": {
            "text/plain": [
              "tensor([11, 12, 13])"
            ]
          },
          "metadata": {},
          "execution_count": 52
        }
      ]
    },
    {
      "cell_type": "code",
      "source": [
        "# Multiplication\n",
        "tensor * 10"
      ],
      "metadata": {
        "id": "3_5r4x40Ss32",
        "outputId": "da35268e-1c31-4db0-ccb9-239e4baa901b",
        "colab": {
          "base_uri": "https://localhost:8080/"
        }
      },
      "execution_count": 53,
      "outputs": [
        {
          "output_type": "execute_result",
          "data": {
            "text/plain": [
              "tensor([10, 20, 30])"
            ]
          },
          "metadata": {},
          "execution_count": 53
        }
      ]
    },
    {
      "cell_type": "code",
      "source": [
        "# Subtraction\n",
        "tensor - 10"
      ],
      "metadata": {
        "id": "O_cyV8rJSwXv",
        "outputId": "b43d4825-6794-4ee8-a634-f5edf61ff8e0",
        "colab": {
          "base_uri": "https://localhost:8080/"
        }
      },
      "execution_count": 54,
      "outputs": [
        {
          "output_type": "execute_result",
          "data": {
            "text/plain": [
              "tensor([-9, -8, -7])"
            ]
          },
          "metadata": {},
          "execution_count": 54
        }
      ]
    },
    {
      "cell_type": "code",
      "source": [
        "# Try out PyTorch inbuilt functions\n",
        "torch.mul(tensor, 10)"
      ],
      "metadata": {
        "id": "jef3-WznS8Pp",
        "outputId": "f1e1b25a-4220-41a3-c030-04a5d4a64567",
        "colab": {
          "base_uri": "https://localhost:8080/"
        }
      },
      "execution_count": 55,
      "outputs": [
        {
          "output_type": "execute_result",
          "data": {
            "text/plain": [
              "tensor([10, 20, 30])"
            ]
          },
          "metadata": {},
          "execution_count": 55
        }
      ]
    },
    {
      "cell_type": "code",
      "source": [
        "torch.add(tensor, -10)"
      ],
      "metadata": {
        "id": "UpFX1l1jTDh9",
        "outputId": "31a215ae-562d-4b2e-c69d-d1b6fb30cdcf",
        "colab": {
          "base_uri": "https://localhost:8080/"
        }
      },
      "execution_count": 56,
      "outputs": [
        {
          "output_type": "execute_result",
          "data": {
            "text/plain": [
              "tensor([-9, -8, -7])"
            ]
          },
          "metadata": {},
          "execution_count": 56
        }
      ]
    },
    {
      "cell_type": "markdown",
      "source": [
        "### Matrix multiplication\n",
        "\n",
        "Two main ways of performing matrix multiplication:\n",
        "1. Element-wise multiplication\n",
        "2. Matrix multiplication ( the dor product )"
      ],
      "metadata": {
        "id": "gvjvOee_UeVS"
      }
    },
    {
      "cell_type": "code",
      "source": [
        "# Element wise multiplication\n",
        "print(f\"{tensor} * {tensor} = {tensor*tensor}\")"
      ],
      "metadata": {
        "id": "B78y2dqEVEf1",
        "outputId": "f1f78e42-0f12-4fcf-a820-0a3b2e11c02a",
        "colab": {
          "base_uri": "https://localhost:8080/"
        }
      },
      "execution_count": 58,
      "outputs": [
        {
          "output_type": "stream",
          "name": "stdout",
          "text": [
            "tensor([1, 2, 3]) * tensor([1, 2, 3]) = tensor([1, 4, 9])\n"
          ]
        }
      ]
    },
    {
      "cell_type": "code",
      "source": [
        "# Matrix multiplication\n",
        "torch.matmul(tensor, tensor)"
      ],
      "metadata": {
        "id": "mdsXMENbVZLE",
        "outputId": "75d5e9e5-5722-4d96-afd6-6da7ef249472",
        "colab": {
          "base_uri": "https://localhost:8080/"
        }
      },
      "execution_count": 59,
      "outputs": [
        {
          "output_type": "execute_result",
          "data": {
            "text/plain": [
              "tensor(14)"
            ]
          },
          "metadata": {},
          "execution_count": 59
        }
      ]
    },
    {
      "cell_type": "code",
      "source": [
        "# Matrix multiplication on actual matrix ( not vectors )\n",
        "MATRIX_A = torch.tensor([[1, 2],\n",
        "                         [3, 4]])\n",
        "MATRIX_B = torch.tensor([[5, 6],\n",
        "                         [7, 8]])\n",
        "torch.matmul(MATRIX_A, MATRIX_B)"
      ],
      "metadata": {
        "id": "xwoHM7njVjcw",
        "outputId": "c4794ad7-26dc-4041-8270-eebe0d161a13",
        "colab": {
          "base_uri": "https://localhost:8080/"
        }
      },
      "execution_count": 60,
      "outputs": [
        {
          "output_type": "execute_result",
          "data": {
            "text/plain": [
              "tensor([[19, 22],\n",
              "        [43, 50]])"
            ]
          },
          "metadata": {},
          "execution_count": 60
        }
      ]
    },
    {
      "cell_type": "code",
      "source": [],
      "metadata": {
        "id": "h1jiDUggWDNF"
      },
      "execution_count": null,
      "outputs": []
    }
  ]
}